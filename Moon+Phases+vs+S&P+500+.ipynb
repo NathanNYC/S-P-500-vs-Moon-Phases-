{
 "cells": [
  {
   "cell_type": "code",
   "execution_count": 34,
   "metadata": {},
   "outputs": [
    {
     "name": "stdout",
     "output_type": "stream",
     "text": [
      "Optimization terminated successfully.\n",
      "         Current function value: 0.635955\n",
      "         Iterations 5\n",
      "                           Logit Regression Results                           \n",
      "==============================================================================\n",
      "Dep. Variable:                 Change   No. Observations:                  124\n",
      "Model:                          Logit   Df Residuals:                      120\n",
      "Method:                           MLE   Df Model:                            3\n",
      "Date:                Thu, 10 Sep 2020   Pseudo R-squ.:                0.006593\n",
      "Time:                        15:22:47   Log-Likelihood:                -78.858\n",
      "converged:                       True   LL-Null:                       -79.382\n",
      "                                        LLR p-value:                    0.7900\n",
      "=============================================================================================\n",
      "                                coef    std err          z      P>|z|      [0.025      0.975]\n",
      "---------------------------------------------------------------------------------------------\n",
      "Intercept                     0.6466      0.372      1.737      0.082      -0.083       1.376\n",
      "MoonPhase[T.Full Moon]        0.2007      0.545      0.368      0.713      -0.868       1.269\n",
      "MoonPhase[T.Last Quarter]    -0.2671      0.518     -0.516      0.606      -1.282       0.748\n",
      "MoonPhase[T.New Moon]         0.2007      0.545      0.368      0.713      -0.868       1.269\n",
      "=============================================================================================\n"
     ]
    }
   ],
   "source": [
    "#S&P 500 index changes vs moon phases \n",
    "#Python, Pandas, and Statsmodels (logistic regression)\n",
    "\n",
    "import pandas as pd \n",
    "import statsmodels.formula.api as smf \n",
    "\n",
    "#moon phases data set ~3yrs historical data \n",
    "data = pd.read_csv('C:/Users/nsw26/Desktop/data1.csv') \n",
    "\n",
    "moon=data['MoonPhase']\n",
    "binaryMoon=[]\n",
    "\n",
    "#turn phases into integers \n",
    "for phase in moon:\n",
    "    if phase == 'Full Moon':\n",
    "        binaryMoon.append(3)\n",
    "    elif phase == 'First Quarter':\n",
    "        binaryMoon.append(1)\n",
    "    elif phase == 'New Moon':\n",
    "        binaryMoon.append(0)    \n",
    "    else: \n",
    "        binaryMoon.append(2)\n",
    "        \n",
    "data['BinaryMoon']=binaryMoon\n",
    "\n",
    "#S&P pricing data \n",
    "data2 = pd.read_csv('C:/Users/nsw26/Desktop/data2.csv')\n",
    "\n",
    "#merge dataframes and line-up on dates \n",
    "data3=data.merge(data2, how='outer',left_on='Date',right_on='Date2')\n",
    "data3.dropna(inplace=True)\n",
    "\n",
    "changeList=[]\n",
    "changeList2=[]\n",
    "\n",
    "for value in data3['Open']:\n",
    "    changeList.append(value)\n",
    "\n",
    "#find % changes \n",
    "for x in changeList:\n",
    "    index = changeList.index(x)\n",
    "    change = (changeList[index]-changeList[index-1])/changeList[index-1]\n",
    "    if change > 0:\n",
    "        change=1\n",
    "    elif change <0:\n",
    "        change=0\n",
    "    changeList2.append(change)\n",
    "    \n",
    "data3['Change']=changeList2\n",
    "\n",
    "data3.head()\n",
    "\n",
    "#logistic regression model \n",
    "model = smf.logit('Change ~ MoonPhase',data=data3)\n",
    "results=model.fit()\n",
    "\n",
    "print(results.summary())\n"
   ]
  }
 ],
 "metadata": {
  "kernelspec": {
   "display_name": "Python 3",
   "language": "python",
   "name": "python3"
  },
  "language_info": {
   "codemirror_mode": {
    "name": "ipython",
    "version": 3
   },
   "file_extension": ".py",
   "mimetype": "text/x-python",
   "name": "python",
   "nbconvert_exporter": "python",
   "pygments_lexer": "ipython3",
   "version": "3.6.2"
  }
 },
 "nbformat": 4,
 "nbformat_minor": 2
}
